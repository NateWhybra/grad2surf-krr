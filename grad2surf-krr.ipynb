{
 "cells": [
  {
   "cell_type": "code",
   "execution_count": 1,
   "id": "dd879e79-1d12-4c00-9000-728508a78a6a",
   "metadata": {},
   "outputs": [],
   "source": [
    "import numpy as np\n",
    "from scipy.spatial.distance import pdist, cdist\n",
    "import matplotlib.pyplot as plt"
   ]
  },
  {
   "cell_type": "code",
   "execution_count": 2,
   "id": "2b326e19-f682-477a-a300-a8ffd6252c31",
   "metadata": {},
   "outputs": [],
   "source": [
    "# Plotting.\n",
    "def show(data):\n",
    "    plt.imshow(data)\n",
    "    plt.colorbar()\n",
    "    plt.show()"
   ]
  },
  {
   "cell_type": "code",
   "execution_count": 3,
   "id": "c8f397ba-e082-44d6-8d36-fe849b227ce4",
   "metadata": {},
   "outputs": [],
   "source": [
    "# Kernel function stuff...\n",
    "def rbf_kernel(A, B, scale=1.0):\n",
    "    sq_dists = cdist(A, B, metric='euclidean')\n",
    "    return np.exp(-sq_dists / (2 * scale ** 2))"
   ]
  },
  {
   "cell_type": "code",
   "execution_count": 4,
   "id": "01f3084c-90e9-477a-809d-0f6e8f94c71a",
   "metadata": {},
   "outputs": [],
   "source": [
    "# Testing.\n",
    "# Get n x 2 coordiante matrix D.\n",
    "def get_coordinates_uniform(radius, num_each_dir):\n",
    "    x = np.linspace(-radius, radius, num_each_dir)\n",
    "    y = x.copy()\n",
    "    xg, yg = np.meshgrid(y, x)\n",
    "    xf, yf = xg.flatten(), yg.flatten()\n",
    "    D = np.column_stack([xf, yf])\n",
    "    return D\n",
    "\n",
    "# Get f(x, y), f_x + noise, f_y + noise.\n",
    "def test_surface_data(D, noise):\n",
    "    # Surface is z = x^2 + y^2.\n",
    "    xf, yf = D[:, 0], D[:, 1]\n",
    "    zf = 0.1 * (xf ** 2 + yf ** 2)\n",
    "\n",
    "    # Get noisy gradient data.\n",
    "    zxf = 0.2 * xf + noise * np.random.randn(len(xf))\n",
    "    zyf = 0.2 * yf + noise * np.random.randn(len(yf))\n",
    "    g = np.concatenate([zxf, zyf])\n",
    "\n",
    "    # Return true surface and noisy gradient as vectors.\n",
    "    return [zf, g]\n",
    "\n",
    "# Get stuff needed for the regression.\n",
    "# For right now, assume Kernel is RBF.\n",
    "\n",
    "# Build matrix theta_ij = phi_i(phi_j(K((x1, x2), (y1, y2)))).\n",
    "# X is a n x 2 matrix if (x, y) coordinates.\n",
    "def build_theta(X, scale=1):\n",
    "    # Get K(X, X).\n",
    "    K = rbf_kernel(X, X, scale)\n",
    "\n",
    "    # Isolate coordinates.\n",
    "    xcoords = X[:, 0]\n",
    "    ycoords = X[:, 1]\n",
    "    dx = np.subtract.outer(xcoords, xcoords)\n",
    "    dy = np.subtract.outer(ycoords, ycoords)\n",
    "\n",
    "    # Get constants.\n",
    "    inv_scale2 = 1 / (scale ** 2)\n",
    "    inv_scale4 = inv_scale2 ** 2\n",
    "    \n",
    "    # Make the 4 n x n block matrices.\n",
    "    top_left = (K * inv_scale2) * (1 - inv_scale2 * dx ** 2)\n",
    "    top_right = -inv_scale4 * dx * dy * K\n",
    "    bottom_left = top_right.copy().T\n",
    "    bottom_right = (K * inv_scale2) * (1 - inv_scale2 * dy ** 2)\n",
    "\n",
    "    # Stack into 2n x 2n matrix.\n",
    "    Theta = np.block([[top_left, top_right], [bottom_left, bottom_right]])\n",
    "    return Theta\n",
    "\n",
    "# Find z to minimize ||Theta @ z - g||^2 + (lambda / 2) * z^T Theta^-1 z.\n",
    "# Then alpha = Theta^-1 z.\n",
    "def compute_alpha(Theta, g, _lambda):\n",
    "    # Solve for z.\n",
    "    Theta2 = Theta @ Theta\n",
    "    Theta3 = Theta2 @ Theta\n",
    "    Id = np.eye(Theta.shape[0])\n",
    "    z = np.linalg.solve(2 * Theta3 + _lambda * Id, 2 * Theta2 @ g)\n",
    "\n",
    "    # Solve for alpha.\n",
    "    alpha = np.linalg.solve(Theta, z)\n",
    "    return alpha\n",
    "\n",
    "def eval_model(Xeval, X, alpha, scale):\n",
    "    # X is our n x 2 (x, y) data points.\n",
    "    # Xeval is our m x 2 (x, y) points we want to evaluate our model.\n",
    "    K = rbf_kernel(Xeval, X, scale)\n",
    "\n",
    "    # Get coords.\n",
    "    xcoords_eval = Xeval[:, 0]\n",
    "    xcoords = X[:, 0]\n",
    "    ycoords_eval = Xeval[:, 1]\n",
    "    ycoords = X[:, 1]\n",
    "\n",
    "    # Get diffs.\n",
    "    xdiff = np.subtract.outer(xcoords_eval, xcoords)\n",
    "    ydiff = np.subtract.outer(ycoords_eval, ycoords)\n",
    "\n",
    "    # Get G.\n",
    "    G_top = -(xdiff / (scale ** 2)) * K\n",
    "    G_bottom = -(ydiff / (scale ** 2)) * K\n",
    "    G = np.vstack([G_top.T, G_bottom.T])\n",
    "\n",
    "    # Get evaluation.\n",
    "    _eval = alpha @ G\n",
    "\n",
    "    return _eval"
   ]
  },
  {
   "cell_type": "code",
   "execution_count": null,
   "id": "c995e040-c0b8-426b-8fe2-e213e3261de8",
   "metadata": {},
   "outputs": [],
   "source": [
    "n = 100\n",
    "scale = 1\n",
    "D = get_coordinates_uniform(radius=0.5, num_each_dir=n)\n",
    "Theta = build_theta(X=D, scale=scale)\n",
    "show(Theta)\n",
    "[zf, g] = test_surface_data(D=D, noise=0)\n",
    "alpha = compute_alpha(Theta=Theta, g=g, _lambda=0)"
   ]
  },
  {
   "cell_type": "code",
   "execution_count": null,
   "id": "23d5c613-344f-44b4-a169-186313e6937b",
   "metadata": {},
   "outputs": [],
   "source": [
    "surf = eval_model(Xeval=D, X=D, alpha=alpha, scale=scale)\n",
    "surf = surf.reshape((n, n))\n",
    "show(surf)"
   ]
  },
  {
   "cell_type": "code",
   "execution_count": null,
   "id": "18d0d615-02f3-4b6c-a57e-0496f7b0ca2d",
   "metadata": {},
   "outputs": [],
   "source": [
    "surf_true = zf.reshape((n, n))\n",
    "show(surf_true)"
   ]
  },
  {
   "cell_type": "code",
   "execution_count": null,
   "id": "68e07d87-f3d8-44d0-a366-584d91050c9d",
   "metadata": {},
   "outputs": [],
   "source": []
  }
 ],
 "metadata": {
  "kernelspec": {
   "display_name": "Python 3 (ipykernel)",
   "language": "python",
   "name": "python3"
  },
  "language_info": {
   "codemirror_mode": {
    "name": "ipython",
    "version": 3
   },
   "file_extension": ".py",
   "mimetype": "text/x-python",
   "name": "python",
   "nbconvert_exporter": "python",
   "pygments_lexer": "ipython3",
   "version": "3.12.7"
  }
 },
 "nbformat": 4,
 "nbformat_minor": 5
}
